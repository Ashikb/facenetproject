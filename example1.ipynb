{
 "cells": [
  {
   "cell_type": "markdown",
   "metadata": {},
   "source": [
    "### This jupyter notebook is to match face of a given photo with all the faces from photos folder "
   ]
  },
  {
   "cell_type": "code",
   "execution_count": 8,
   "metadata": {},
   "outputs": [],
   "source": [
    "# importing libraries\n",
    "from facenet_pytorch import MTCNN, InceptionResnetV1\n",
    "import torch\n",
    "from torchvision import datasets\n",
    "from torch.utils.data import DataLoader\n",
    "from PIL import Image"
   ]
  },
  {
   "cell_type": "code",
   "execution_count": 9,
   "metadata": {},
   "outputs": [],
   "source": [
    "\n",
    "mtcnn = MTCNN(image_size=240, margin=0, min_face_size=20) # initializing mtcnn for face detection\n",
    "resnet = InceptionResnetV1(pretrained='vggface2').eval() # initializing resnet for face img to embeding conversion\n",
    "\n",
    "dataset=datasets.ImageFolder('photos') # photos folder path \n",
    "idx_to_class = {i:c for c,i in dataset.class_to_idx.items()} # accessing names of peoples from folder names\n",
    "\n",
    "def collate_fn(x):\n",
    "    return x[0]\n",
    "\n",
    "loader = DataLoader(dataset, collate_fn=collate_fn)\n",
    "\n",
    "face_list = [] # list of cropped faces from photos folder\n",
    "name_list = [] # list of names corrospoing to cropped photos\n",
    "embedding_list = [] # list of embeding matrix after conversion from cropped faces to embedding matrix using resnet\n",
    "\n",
    "for img, idx in loader:\n",
    "    face, prob = mtcnn(img, return_prob=True) \n",
    "    if face is not None and prob>0.90: # if face detected and porbability > 90%\n",
    "        emb = resnet(face.unsqueeze(0)) # passing cropped face into resnet model to get embedding matrix\n",
    "        embedding_list.append(emb.detach()) # resulten embedding matrix is stored in a list\n",
    "        name_list.append(idx_to_class[idx]) # names are stored in a list\n",
    "        \n"
   ]
  },
  {
   "cell_type": "markdown",
   "metadata": {},
   "source": [
    "### Saving data into data.pt file"
   ]
  },
  {
   "cell_type": "code",
   "execution_count": 10,
   "metadata": {},
   "outputs": [],
   "source": [
    "data = [embedding_list, name_list]\n",
    "torch.save(data, 'data.pt') # saving data.pt file"
   ]
  },
  {
   "cell_type": "markdown",
   "metadata": {},
   "source": [
    "### Matching face id of the given photo with available data from data.pt file"
   ]
  },
  {
   "cell_type": "code",
   "execution_count": 11,
   "metadata": {},
   "outputs": [
    {
     "name": "stdout",
     "output_type": "stream",
     "text": [
      "Face matched with:  sowji With distance:  1.284195899963379\n"
     ]
    }
   ],
   "source": [
    "\n",
    "def face_match(img_path, data_path): # img_path= location of photo, data_path= location of data.pt \n",
    "    # getting embedding matrix of the given img\n",
    "    img = Image.open(img_path)\n",
    "    face, prob = mtcnn(img, return_prob=True) # returns cropped face and probability\n",
    "    emb = resnet(face.unsqueeze(0)).detach() # detech is to make required gradient false\n",
    "    \n",
    "    saved_data = torch.load('data.pt') # loading data.pt file\n",
    "    embedding_list = saved_data[0] # getting embedding data\n",
    "    name_list = saved_data[1] # getting list of names\n",
    "    dist_list = [] # list of matched distances, minimum distance is used to identify the person\n",
    "    \n",
    "    for idx, emb_db in enumerate(embedding_list):\n",
    "        dist = torch.dist(emb, emb_db).item()\n",
    "        dist_list.append(dist)\n",
    "        \n",
    "    idx_min = dist_list.index(min(dist_list))\n",
    "    return (name_list[idx_min], min(dist_list))\n",
    "\n",
    "\n",
    "result = face_match('images.jpeg', 'data.pt')\n",
    "\n",
    "print('Face matched with: ',result[0], 'With distance: ',result[1])"
   ]
  },
  {
   "cell_type": "code",
   "execution_count": 16,
   "metadata": {},
   "outputs": [
    {
     "name": "stdout",
     "output_type": "stream",
     "text": [
      "opencv_frame_0.png written!\n",
      "Escape hit, closing...\n",
      "('Joseph', 1.2045170068740845)\n",
      "Face matched with:  Joseph With distance:  1.2045170068740845\n"
     ]
    }
   ],
   "source": [
    "import cv2\n",
    "\n",
    "cam = cv2.VideoCapture(0)\n",
    "\n",
    "cv2.namedWindow(\"test\")\n",
    "\n",
    "img_counter = 0\n",
    "\n",
    "while True:\n",
    "    ret, frame = cam.read()\n",
    "    if not ret:\n",
    "        print(\"failed to grab frame\")\n",
    "        break\n",
    "    cv2.imshow(\"test\", frame)\n",
    "\n",
    "    k = cv2.waitKey(1)\n",
    "    if k%256 == 27:\n",
    "        # ESC pressed\n",
    "        print(\"Escape hit, closing...\")\n",
    "        break\n",
    "    elif k%256 == 32:\n",
    "        # SPACE pressed\n",
    "        img_name = \"opencv_frame_{}.png\".format(img_counter)\n",
    "        cv2.imwrite(img_name, frame)\n",
    "        print(\"{} written!\".format(img_name))\n",
    "        img_counter += 1\n",
    "\n",
    "cam.release()\n",
    "cv2.destroyAllWindows()\n",
    "\n",
    "\n",
    "def face_match(img_path, data_path): # img_path= location of photo, data_path= location of data.pt \n",
    "    # getting embedding matrix of the given img\n",
    "    img = Image.open(img_path)\n",
    "    face, prob = mtcnn(img, return_prob=True) # returns cropped face and probability\n",
    "    emb = resnet(face.unsqueeze(0)).detach() # detech is to make required gradient false\n",
    "    \n",
    "    saved_data = torch.load('data.pt') # loading data.pt file\n",
    "    embedding_list = saved_data[0] # getting embedding data\n",
    "    name_list = saved_data[1] # getting list of names\n",
    "    dist_list = [] # list of matched distances, minimum distance is used to identify the person\n",
    "    \n",
    "    for idx, emb_db in enumerate(embedding_list):\n",
    "        dist = torch.dist(emb, emb_db).item()\n",
    "        dist_list.append(dist)\n",
    "        \n",
    "    idx_min = dist_list.index(min(dist_list))\n",
    "    return (name_list[idx_min], min(dist_list))\n",
    "\n",
    "\n",
    "result = face_match(img_name, 'data.pt')\n",
    "print(result)\n",
    "\n",
    "print('Face matched with: ',result[0], 'With distance: ',result[1])"
   ]
  },
  {
   "cell_type": "code",
   "execution_count": null,
   "metadata": {},
   "outputs": [],
   "source": []
  },
  {
   "cell_type": "code",
   "execution_count": null,
   "metadata": {},
   "outputs": [],
   "source": []
  }
 ],
 "metadata": {
  "kernelspec": {
   "display_name": "Python 3 (ipykernel)",
   "language": "python",
   "name": "python3"
  },
  "language_info": {
   "codemirror_mode": {
    "name": "ipython",
    "version": 3
   },
   "file_extension": ".py",
   "mimetype": "text/x-python",
   "name": "python",
   "nbconvert_exporter": "python",
   "pygments_lexer": "ipython3",
   "version": "3.8.10"
  }
 },
 "nbformat": 4,
 "nbformat_minor": 4
}
